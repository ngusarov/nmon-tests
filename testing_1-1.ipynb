{
 "cells": [
  {
   "cell_type": "code",
   "execution_count": 1,
   "metadata": {},
   "outputs": [
    {
     "name": "stderr",
     "output_type": "stream",
     "text": [
      "NotOpenSSLWarning: urllib3 v2 only supports OpenSSL 1.1.1+, currently the 'ssl' module is compiled with 'LibreSSL 2.8.3'. See: https://github.com/urllib3/urllib3/issues/3020\n",
      " /Users/nikolaygusarov/Library/Python/3.9/lib/python/site-packages/urllib3/__init__.py: 34"
     ]
    }
   ],
   "source": [
    "from nmon import *"
   ]
  },
  {
   "cell_type": "code",
   "execution_count": 2,
   "metadata": {},
   "outputs": [
    {
     "name": "stdout",
     "output_type": "stream",
     "text": [
      "Eigenvalues from phase basis: [-0.46840925  1.90714544  2.37338973  8.03659174  8.03875592 18.01608185\n",
      " 18.01608262 32.0089303  32.0089303  50.00568225]\n"
     ]
    }
   ],
   "source": [
    "import numpy as np\n",
    "\n",
    "def transmon_hamiltonian_phase_basis(EJ, EC, Phi, n_g, M):\n",
    "    \"\"\"\n",
    "    Generate the Hamiltonian matrix for a transmon qubit in the phase basis using spectral methods.\n",
    "\n",
    "    Parameters:\n",
    "    EJ (float): Josephson energy.\n",
    "    EC (float): Charging energy.\n",
    "    Phi (float): External flux in units of the flux quantum (Φ/Φ0).\n",
    "    n_g (float): Offset charge.\n",
    "    M (int): Number of discretization points in the phase basis.\n",
    "\n",
    "    Returns:\n",
    "    np.ndarray: The Hamiltonian matrix.\n",
    "    \"\"\"\n",
    "    # Discretized phase basis points\n",
    "    theta = np.linspace(0, 2 * np.pi, M, endpoint=False)\n",
    "\n",
    "    # Charge number n ranging from -M//2 to M//2\n",
    "    n = np.arange(-M//2, M//2)\n",
    "    if M % 2 == 0:\n",
    "        n = np.arange(-M//2, M//2)\n",
    "    else:\n",
    "        n = np.arange(-(M-1)//2, (M+1)//2)\n",
    "\n",
    "    # Kinetic energy operator in the charge basis\n",
    "    N = 4 * EC * (n - n_g)**2\n",
    "\n",
    "    # Potential energy term in the phase basis\n",
    "    V = -EJ * np.cos(theta - 2 * np.pi * Phi)\n",
    "\n",
    "    # Fourier matrices\n",
    "    F = np.exp(1j * np.outer(n, theta)) / np.sqrt(M)\n",
    "    F_dag = np.conj(F).T\n",
    "\n",
    "    # Transform kinetic energy to phase basis\n",
    "    H_C = F_dag @ np.diag(N) @ F\n",
    "\n",
    "    # Potential energy operator (diagonal in phase basis)\n",
    "    H_J = np.diag(V)\n",
    "\n",
    "    # Total Hamiltonian\n",
    "    H = H_C + H_J\n",
    "\n",
    "    # Ensure the Hamiltonian is Hermitian\n",
    "    H = (H + H.conj().T) / 2\n",
    "\n",
    "    return H\n",
    "\n",
    "# Example usage\n",
    "EJ = 1.5   # Josephson energy\n",
    "EC = 0.5   # Charging energy\n",
    "Phi = 0.0  # External flux (units of Φ/Φ0)\n",
    "n_g = 0.0  # Offset charge\n",
    "M = 101    # Number of discretization points in the phase basis\n",
    "\n",
    "hamiltonian_matrix_phase = transmon_hamiltonian_phase_basis(EJ, EC, Phi, n_g, M)\n",
    "\n",
    "# Compute eigenvalues\n",
    "eigenvalues_phase = np.linalg.eigvalsh(hamiltonian_matrix_phase)\n",
    "\n",
    "# Display the first few eigenvalues\n",
    "print(\"Eigenvalues from phase basis:\", eigenvalues_phase[:10])\n"
   ]
  },
  {
   "cell_type": "code",
   "execution_count": 3,
   "metadata": {},
   "outputs": [
    {
     "name": "stdout",
     "output_type": "stream",
     "text": [
      "Eigenvalues from charge basis: [-0.46840925  1.90714544  2.37338973  8.03659174  8.03875592 18.01608185\n",
      " 18.01608262 32.0089303  32.0089303  50.00568225]\n",
      "Eigenvalues from phase basis: [-0.46840925  1.90714544  2.37338973  8.03659174  8.03875592 18.01608185\n",
      " 18.01608262 32.0089303  32.0089303  50.00568225]\n"
     ]
    }
   ],
   "source": [
    "def transmon_hamiltonian_charge_basis(EJ, EC, n_cut, Phi, n_g):\n",
    "    \"\"\"\n",
    "    Generate the Hamiltonian matrix for a transmon qubit in the charge basis.\n",
    "\n",
    "    Parameters:\n",
    "    EJ (float): Josephson energy.\n",
    "    EC (float): Charging energy.\n",
    "    n_cut (int): Cut-off for the charge basis.\n",
    "    Phi (float): External flux in units of the flux quantum (Φ/Φ0).\n",
    "    n_g (float): Offset charge.\n",
    "\n",
    "    Returns:\n",
    "    np.ndarray: The Hamiltonian matrix.\n",
    "    \"\"\"\n",
    "    # Define the charge states\n",
    "    n = np.arange(-n_cut, n_cut + 1)\n",
    "    dim = len(n)\n",
    "    H = np.zeros((dim, dim), dtype=complex)\n",
    "\n",
    "    # Charging energy term\n",
    "    H += np.diag(4 * EC * (n - n_g)**2)\n",
    "\n",
    "    # Josephson energy term\n",
    "    for i in range(dim):\n",
    "        if i + 1 < dim:\n",
    "            H[i, i + 1] += -EJ / 2 * np.exp(-2j * np.pi * Phi)\n",
    "            H[i + 1, i] += -EJ / 2 * np.exp(2j * np.pi * Phi)\n",
    "    return H.real\n",
    "\n",
    "# Example usage\n",
    "n_cut = (M - 1) // 2  # Ensure that dimension matches M\n",
    "hamiltonian_matrix_charge = transmon_hamiltonian_charge_basis(EJ, EC, n_cut, Phi, n_g)\n",
    "\n",
    "# Compute eigenvalues\n",
    "eigenvalues_charge = np.linalg.eigvalsh(hamiltonian_matrix_charge)\n",
    "\n",
    "# Compare eigenvalues\n",
    "print(\"Eigenvalues from charge basis:\", eigenvalues_charge[:10])\n",
    "print(\"Eigenvalues from phase basis:\", eigenvalues_phase[:10])\n"
   ]
  }
 ],
 "metadata": {
  "kernelspec": {
   "display_name": "Python 3",
   "language": "python",
   "name": "python3"
  },
  "language_info": {
   "codemirror_mode": {
    "name": "ipython",
    "version": 3
   },
   "file_extension": ".py",
   "mimetype": "text/x-python",
   "name": "python",
   "nbconvert_exporter": "python",
   "pygments_lexer": "ipython3",
   "version": "3.9.6"
  },
  "orig_nbformat": 4
 },
 "nbformat": 4,
 "nbformat_minor": 2
}
