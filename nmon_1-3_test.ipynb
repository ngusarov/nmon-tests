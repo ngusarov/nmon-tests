{
 "cells": [
  {
   "cell_type": "code",
   "execution_count": 3,
   "metadata": {},
   "outputs": [],
   "source": [
    "from nmon import *"
   ]
  },
  {
   "cell_type": "markdown",
   "metadata": {},
   "source": [
    "### E01 vs ng1 vs ng2 vs ng3"
   ]
  },
  {
   "cell_type": "code",
   "execution_count": 4,
   "metadata": {},
   "outputs": [
    {
     "name": "stderr",
     "output_type": "stream",
     "text": [
      "  0%|          | 0/30 [09:43<?, ?it/s]\n"
     ]
    },
    {
     "ename": "KeyboardInterrupt",
     "evalue": "",
     "output_type": "error",
     "traceback": [
      "\u001b[0;31m---------------------------------------------------------------------------\u001b[0m",
      "\u001b[0;31mKeyboardInterrupt\u001b[0m                         Traceback (most recent call last)",
      "\u001b[1;32m/Users/nikolaygusarov/nmon-tests/nmon_1-3_test.ipynb Cell 3\u001b[0m line \u001b[0;36m3\n\u001b[1;32m     <a href='vscode-notebook-cell:/Users/nikolaygusarov/nmon-tests/nmon_1-3_test.ipynb#W2sZmlsZQ%3D%3D?line=28'>29</a>\u001b[0m \u001b[39mfor\u001b[39;00m k, flux \u001b[39min\u001b[39;00m \u001b[39menumerate\u001b[39m(flux_list):\n\u001b[1;32m     <a href='vscode-notebook-cell:/Users/nikolaygusarov/nmon-tests/nmon_1-3_test.ipynb#W2sZmlsZQ%3D%3D?line=29'>30</a>\u001b[0m     \u001b[39mtry\u001b[39;00m:\n\u001b[0;32m---> <a href='vscode-notebook-cell:/Users/nikolaygusarov/nmon-tests/nmon_1-3_test.ipynb#W2sZmlsZQ%3D%3D?line=30'>31</a>\u001b[0m         nmon\u001b[39m.\u001b[39;49mhamiltonian_calc(flux\u001b[39m=\u001b[39;49mflux, ng\u001b[39m=\u001b[39;49m[ng1, ng2, ng3], num_levels\u001b[39m=\u001b[39;49m\u001b[39m6\u001b[39;49m, make_plot\u001b[39m=\u001b[39;49m\u001b[39mFalse\u001b[39;49;00m, just_H\u001b[39m=\u001b[39;49m\u001b[39mFalse\u001b[39;49;00m, \n\u001b[1;32m     <a href='vscode-notebook-cell:/Users/nikolaygusarov/nmon-tests/nmon_1-3_test.ipynb#W2sZmlsZQ%3D%3D?line=31'>32</a>\u001b[0m                             cutoff\u001b[39m=\u001b[39;49mcompute_cutoff(nmon\u001b[39m.\u001b[39;49mEJN, nmon\u001b[39m.\u001b[39;49mEJM, nmon\u001b[39m.\u001b[39;49mEC_total, cutoff_space\u001b[39m=\u001b[39;49m[\u001b[39m2\u001b[39;49m, \u001b[39m8\u001b[39;49m]))\n\u001b[1;32m     <a href='vscode-notebook-cell:/Users/nikolaygusarov/nmon-tests/nmon_1-3_test.ipynb#W2sZmlsZQ%3D%3D?line=32'>33</a>\u001b[0m         w01_list[i, j, a, k] \u001b[39m=\u001b[39m nmon\u001b[39m.\u001b[39mtransition_freqs[\u001b[39m0\u001b[39m]\n\u001b[1;32m     <a href='vscode-notebook-cell:/Users/nikolaygusarov/nmon-tests/nmon_1-3_test.ipynb#W2sZmlsZQ%3D%3D?line=33'>34</a>\u001b[0m         E0_list[i, j, a, k] \u001b[39m=\u001b[39m nmon\u001b[39m.\u001b[39mbound_state_energies[\u001b[39m0\u001b[39m]\n",
      "File \u001b[0;32m~/nmon-tests/nmon.py:254\u001b[0m, in \u001b[0;36mNmon.hamiltonian_calc\u001b[0;34m(self, flux, ng, make_plot, num_levels, just_H, cutoff)\u001b[0m\n\u001b[1;32m    251\u001b[0m     \u001b[39mself\u001b[39m\u001b[39m.\u001b[39mH \u001b[39m=\u001b[39m scipy\u001b[39m.\u001b[39msparse\u001b[39m.\u001b[39mcsr_matrix(np\u001b[39m.\u001b[39mabsolute(\u001b[39mself\u001b[39m\u001b[39m.\u001b[39mH))\n\u001b[1;32m    252\u001b[0m     \u001b[39mself\u001b[39m\u001b[39m.\u001b[39mH_arr \u001b[39m=\u001b[39m np\u001b[39m.\u001b[39mabsolute(\u001b[39mself\u001b[39m\u001b[39m.\u001b[39mH_arr)\n\u001b[0;32m--> 254\u001b[0m \u001b[39mself\u001b[39m\u001b[39m.\u001b[39msym_hamiltonian  \u001b[39m=\u001b[39m \u001b[39mself\u001b[39;49m\u001b[39m.\u001b[39;49mnmon_circ\u001b[39m.\u001b[39;49msym_hamiltonian(return_expr\u001b[39m=\u001b[39;49m\u001b[39mTrue\u001b[39;49;00m)\n\u001b[1;32m    256\u001b[0m \u001b[39mif\u001b[39;00m just_H:\n\u001b[1;32m    257\u001b[0m     \u001b[39mreturn\u001b[39;00m \u001b[39mself\u001b[39m\u001b[39m.\u001b[39mH\n",
      "File \u001b[0;32m~/Library/Python/3.9/lib/python/site-packages/scqubits/core/circuit_routines.py:2953\u001b[0m, in \u001b[0;36mCircuitRoutines.sym_hamiltonian\u001b[0;34m(self, subsystem_index, float_round, print_latex, return_expr)\u001b[0m\n\u001b[1;32m   2948\u001b[0m     sym_hamiltonian \u001b[39m=\u001b[39m sm\u001b[39m.\u001b[39mAdd(\n\u001b[1;32m   2949\u001b[0m         sym_hamiltonian_KE, sym_hamiltonian_PE, evaluate\u001b[39m=\u001b[39m\u001b[39mFalse\u001b[39;00m\n\u001b[1;32m   2950\u001b[0m     )\n\u001b[1;32m   2951\u001b[0m \u001b[39melse\u001b[39;00m:\n\u001b[1;32m   2952\u001b[0m     \u001b[39m# create KE and PE symbolic expressions\u001b[39;00m\n\u001b[0;32m-> 2953\u001b[0m     sym_hamiltonian \u001b[39m=\u001b[39m \u001b[39mself\u001b[39;49m\u001b[39m.\u001b[39;49m_make_expr_human_readable(\n\u001b[1;32m   2954\u001b[0m         \u001b[39mself\u001b[39;49m\u001b[39m.\u001b[39;49mhamiltonian_symbolic\u001b[39m.\u001b[39;49mexpand(),\n\u001b[1;32m   2955\u001b[0m         float_round\u001b[39m=\u001b[39;49mfloat_round,\n\u001b[1;32m   2956\u001b[0m     )\n\u001b[1;32m   2957\u001b[0m     \u001b[39m# substitute free charges\u001b[39;00m\n\u001b[1;32m   2958\u001b[0m     \u001b[39mfor\u001b[39;00m free_charge \u001b[39min\u001b[39;00m \u001b[39mself\u001b[39m\u001b[39m.\u001b[39mfree_charges:\n",
      "File \u001b[0;32m~/Library/Python/3.9/lib/python/site-packages/scqubits/core/circuit_routines.py:2809\u001b[0m, in \u001b[0;36mCircuitRoutines._make_expr_human_readable\u001b[0;34m(self, expr, float_round)\u001b[0m\n\u001b[1;32m   2804\u001b[0m         expr_modified \u001b[39m=\u001b[39m expr_modified\u001b[39m.\u001b[39msubs(term, \u001b[39mround\u001b[39m(term, float_round))\n\u001b[1;32m   2806\u001b[0m \u001b[39mfor\u001b[39;00m var_index \u001b[39min\u001b[39;00m \u001b[39mself\u001b[39m\u001b[39m.\u001b[39mdynamic_var_indices:\n\u001b[1;32m   2807\u001b[0m     \u001b[39m# replace sinθ with sin(..) and similarly with cos\u001b[39;00m\n\u001b[1;32m   2808\u001b[0m     expr_modified \u001b[39m=\u001b[39m (\n\u001b[0;32m-> 2809\u001b[0m         expr_modified\u001b[39m.\u001b[39;49mreplace(\n\u001b[1;32m   2810\u001b[0m             sm\u001b[39m.\u001b[39;49msymbols(\u001b[39mf\u001b[39;49m\u001b[39m\"\u001b[39;49m\u001b[39mcosθ\u001b[39;49m\u001b[39m{\u001b[39;49;00mvar_index\u001b[39m}\u001b[39;49;00m\u001b[39m\"\u001b[39;49m),\n\u001b[1;32m   2811\u001b[0m             sm\u001b[39m.\u001b[39;49mcos(\u001b[39m1.0\u001b[39;49m \u001b[39m*\u001b[39;49m sm\u001b[39m.\u001b[39;49msymbols(\u001b[39mf\u001b[39;49m\u001b[39m\"\u001b[39;49m\u001b[39mθ\u001b[39;49m\u001b[39m{\u001b[39;49;00mvar_index\u001b[39m}\u001b[39;49;00m\u001b[39m\"\u001b[39;49m)),\n\u001b[1;32m   2812\u001b[0m         )\n\u001b[1;32m   2813\u001b[0m         \u001b[39m.\u001b[39;49mreplace(\n\u001b[1;32m   2814\u001b[0m             sm\u001b[39m.\u001b[39;49msymbols(\u001b[39mf\u001b[39;49m\u001b[39m\"\u001b[39;49m\u001b[39msinθ\u001b[39;49m\u001b[39m{\u001b[39;49;00mvar_index\u001b[39m}\u001b[39;49;00m\u001b[39m\"\u001b[39;49m),\n\u001b[1;32m   2815\u001b[0m             sm\u001b[39m.\u001b[39;49msin(\u001b[39m1.0\u001b[39;49m \u001b[39m*\u001b[39;49m sm\u001b[39m.\u001b[39;49msymbols(\u001b[39mf\u001b[39;49m\u001b[39m\"\u001b[39;49m\u001b[39mθ\u001b[39;49m\u001b[39m{\u001b[39;49;00mvar_index\u001b[39m}\u001b[39;49;00m\u001b[39m\"\u001b[39;49m)),\n\u001b[1;32m   2816\u001b[0m         )\n\u001b[1;32m   2817\u001b[0m         \u001b[39m.\u001b[39;49mreplace(\n\u001b[1;32m   2818\u001b[0m             (\u001b[39m1.0\u001b[39;49m \u001b[39m*\u001b[39;49m sm\u001b[39m.\u001b[39;49msymbols(\u001b[39mf\u001b[39;49m\u001b[39m\"\u001b[39;49m\u001b[39mθ\u001b[39;49m\u001b[39m{\u001b[39;49;00mvar_index\u001b[39m}\u001b[39;49;00m\u001b[39m\"\u001b[39;49m)),\n\u001b[1;32m   2819\u001b[0m             (sm\u001b[39m.\u001b[39;49msymbols(\u001b[39mf\u001b[39;49m\u001b[39m\"\u001b[39;49m\u001b[39mθ\u001b[39;49m\u001b[39m{\u001b[39;49;00mvar_index\u001b[39m}\u001b[39;49;00m\u001b[39m\"\u001b[39;49m)),\n\u001b[1;32m   2820\u001b[0m         )\n\u001b[1;32m   2821\u001b[0m     )\n\u001b[1;32m   2822\u001b[0m     \u001b[39m# replace Qs with Q^2 etc\u001b[39;00m\n\u001b[1;32m   2823\u001b[0m     expr_modified \u001b[39m=\u001b[39m expr_modified\u001b[39m.\u001b[39mreplace(\n\u001b[1;32m   2824\u001b[0m         sm\u001b[39m.\u001b[39msymbols(\u001b[39m\"\u001b[39m\u001b[39mQs\u001b[39m\u001b[39m\"\u001b[39m \u001b[39m+\u001b[39m \u001b[39mstr\u001b[39m(var_index)), sm\u001b[39m.\u001b[39msymbols(\u001b[39mf\u001b[39m\u001b[39m\"\u001b[39m\u001b[39mQ\u001b[39m\u001b[39m{\u001b[39;00mvar_index\u001b[39m}\u001b[39;00m\u001b[39m\"\u001b[39m) \u001b[39m*\u001b[39m\u001b[39m*\u001b[39m \u001b[39m2\u001b[39m\n\u001b[1;32m   2825\u001b[0m     )\n",
      "File \u001b[0;32m~/Library/Python/3.9/lib/python/site-packages/sympy/core/basic.py:1749\u001b[0m, in \u001b[0;36mBasic.replace\u001b[0;34m(self, query, value, map, simultaneous, exact)\u001b[0m\n\u001b[1;32m   1746\u001b[0m             expr \u001b[39m=\u001b[39m v\n\u001b[1;32m   1747\u001b[0m     \u001b[39mreturn\u001b[39;00m expr\n\u001b[0;32m-> 1749\u001b[0m rv \u001b[39m=\u001b[39m walk(\u001b[39mself\u001b[39;49m, rec_replace)\n\u001b[1;32m   1750\u001b[0m \u001b[39mreturn\u001b[39;00m (rv, mapping) \u001b[39mif\u001b[39;00m \u001b[39mmap\u001b[39m \u001b[39melse\u001b[39;00m rv\n",
      "File \u001b[0;32m~/Library/Python/3.9/lib/python/site-packages/sympy/core/basic.py:1724\u001b[0m, in \u001b[0;36mBasic.replace.<locals>.walk\u001b[0;34m(rv, F)\u001b[0m\n\u001b[1;32m   1722\u001b[0m \u001b[39mif\u001b[39;00m args \u001b[39mis\u001b[39;00m \u001b[39mnot\u001b[39;00m \u001b[39mNone\u001b[39;00m:\n\u001b[1;32m   1723\u001b[0m     \u001b[39mif\u001b[39;00m args:\n\u001b[0;32m-> 1724\u001b[0m         newargs \u001b[39m=\u001b[39m \u001b[39mtuple\u001b[39m([walk(a, F) \u001b[39mfor\u001b[39;00m a \u001b[39min\u001b[39;00m args])\n\u001b[1;32m   1725\u001b[0m         \u001b[39mif\u001b[39;00m args \u001b[39m!=\u001b[39m newargs:\n\u001b[1;32m   1726\u001b[0m             rv \u001b[39m=\u001b[39m rv\u001b[39m.\u001b[39mfunc(\u001b[39m*\u001b[39mnewargs)\n",
      "File \u001b[0;32m~/Library/Python/3.9/lib/python/site-packages/sympy/core/basic.py:1724\u001b[0m, in \u001b[0;36m<listcomp>\u001b[0;34m(.0)\u001b[0m\n\u001b[1;32m   1722\u001b[0m \u001b[39mif\u001b[39;00m args \u001b[39mis\u001b[39;00m \u001b[39mnot\u001b[39;00m \u001b[39mNone\u001b[39;00m:\n\u001b[1;32m   1723\u001b[0m     \u001b[39mif\u001b[39;00m args:\n\u001b[0;32m-> 1724\u001b[0m         newargs \u001b[39m=\u001b[39m \u001b[39mtuple\u001b[39m([walk(a, F) \u001b[39mfor\u001b[39;00m a \u001b[39min\u001b[39;00m args])\n\u001b[1;32m   1725\u001b[0m         \u001b[39mif\u001b[39;00m args \u001b[39m!=\u001b[39m newargs:\n\u001b[1;32m   1726\u001b[0m             rv \u001b[39m=\u001b[39m rv\u001b[39m.\u001b[39mfunc(\u001b[39m*\u001b[39mnewargs)\n",
      "File \u001b[0;32m~/Library/Python/3.9/lib/python/site-packages/sympy/core/basic.py:1724\u001b[0m, in \u001b[0;36mBasic.replace.<locals>.walk\u001b[0;34m(rv, F)\u001b[0m\n\u001b[1;32m   1722\u001b[0m \u001b[39mif\u001b[39;00m args \u001b[39mis\u001b[39;00m \u001b[39mnot\u001b[39;00m \u001b[39mNone\u001b[39;00m:\n\u001b[1;32m   1723\u001b[0m     \u001b[39mif\u001b[39;00m args:\n\u001b[0;32m-> 1724\u001b[0m         newargs \u001b[39m=\u001b[39m \u001b[39mtuple\u001b[39m([walk(a, F) \u001b[39mfor\u001b[39;00m a \u001b[39min\u001b[39;00m args])\n\u001b[1;32m   1725\u001b[0m         \u001b[39mif\u001b[39;00m args \u001b[39m!=\u001b[39m newargs:\n\u001b[1;32m   1726\u001b[0m             rv \u001b[39m=\u001b[39m rv\u001b[39m.\u001b[39mfunc(\u001b[39m*\u001b[39mnewargs)\n",
      "File \u001b[0;32m~/Library/Python/3.9/lib/python/site-packages/sympy/core/basic.py:1724\u001b[0m, in \u001b[0;36m<listcomp>\u001b[0;34m(.0)\u001b[0m\n\u001b[1;32m   1722\u001b[0m \u001b[39mif\u001b[39;00m args \u001b[39mis\u001b[39;00m \u001b[39mnot\u001b[39;00m \u001b[39mNone\u001b[39;00m:\n\u001b[1;32m   1723\u001b[0m     \u001b[39mif\u001b[39;00m args:\n\u001b[0;32m-> 1724\u001b[0m         newargs \u001b[39m=\u001b[39m \u001b[39mtuple\u001b[39m([walk(a, F) \u001b[39mfor\u001b[39;00m a \u001b[39min\u001b[39;00m args])\n\u001b[1;32m   1725\u001b[0m         \u001b[39mif\u001b[39;00m args \u001b[39m!=\u001b[39m newargs:\n\u001b[1;32m   1726\u001b[0m             rv \u001b[39m=\u001b[39m rv\u001b[39m.\u001b[39mfunc(\u001b[39m*\u001b[39mnewargs)\n",
      "File \u001b[0;32m~/Library/Python/3.9/lib/python/site-packages/sympy/core/basic.py:1734\u001b[0m, in \u001b[0;36mBasic.replace.<locals>.walk\u001b[0;34m(rv, F)\u001b[0m\n\u001b[1;32m   1732\u001b[0m                     \u001b[39mif\u001b[39;00m rv \u001b[39m==\u001b[39m e \u001b[39mand\u001b[39;00m e \u001b[39m!=\u001b[39m newargs[i]:\n\u001b[1;32m   1733\u001b[0m                         \u001b[39mreturn\u001b[39;00m rv\n\u001b[0;32m-> 1734\u001b[0m     rv \u001b[39m=\u001b[39m F(rv)\n\u001b[1;32m   1735\u001b[0m \u001b[39mreturn\u001b[39;00m rv\n",
      "File \u001b[0;32m~/Library/Python/3.9/lib/python/site-packages/sympy/core/basic.py:1740\u001b[0m, in \u001b[0;36mBasic.replace.<locals>.rec_replace\u001b[0;34m(expr)\u001b[0m\n\u001b[1;32m   1739\u001b[0m \u001b[39mdef\u001b[39;00m \u001b[39mrec_replace\u001b[39m(expr):\n\u001b[0;32m-> 1740\u001b[0m     result \u001b[39m=\u001b[39m _query(expr)\n\u001b[1;32m   1741\u001b[0m     \u001b[39mif\u001b[39;00m result \u001b[39mor\u001b[39;00m result \u001b[39m==\u001b[39m {}:\n\u001b[1;32m   1742\u001b[0m         v \u001b[39m=\u001b[39m _value(expr, result)\n",
      "File \u001b[0;32m~/Library/Python/3.9/lib/python/site-packages/sympy/core/basic.py:1677\u001b[0m, in \u001b[0;36mBasic.replace.<locals>.<lambda>\u001b[0;34m(expr)\u001b[0m\n\u001b[1;32m   1673\u001b[0m         \u001b[39mraise\u001b[39;00m \u001b[39mTypeError\u001b[39;00m(\n\u001b[1;32m   1674\u001b[0m             \u001b[39m\"\u001b[39m\u001b[39mgiven a type, replace() expects another \u001b[39m\u001b[39m\"\u001b[39m\n\u001b[1;32m   1675\u001b[0m             \u001b[39m\"\u001b[39m\u001b[39mtype or a callable\u001b[39m\u001b[39m\"\u001b[39m)\n\u001b[1;32m   1676\u001b[0m \u001b[39melif\u001b[39;00m \u001b[39misinstance\u001b[39m(query, Basic):\n\u001b[0;32m-> 1677\u001b[0m     _query \u001b[39m=\u001b[39m \u001b[39mlambda\u001b[39;00m expr: expr\u001b[39m.\u001b[39;49mmatch(query)\n\u001b[1;32m   1678\u001b[0m     \u001b[39mif\u001b[39;00m exact \u001b[39mis\u001b[39;00m \u001b[39mNone\u001b[39;00m:\n\u001b[1;32m   1679\u001b[0m         \u001b[39mfrom\u001b[39;00m \u001b[39m.\u001b[39;00m\u001b[39msymbol\u001b[39;00m \u001b[39mimport\u001b[39;00m Wild\n",
      "File \u001b[0;32m~/Library/Python/3.9/lib/python/site-packages/sympy/core/basic.py:1874\u001b[0m, in \u001b[0;36mBasic.match\u001b[0;34m(self, pattern, old)\u001b[0m\n\u001b[1;32m   1872\u001b[0m \u001b[39m# match non-bound symbols\u001b[39;00m\n\u001b[1;32m   1873\u001b[0m canonical \u001b[39m=\u001b[39m \u001b[39mlambda\u001b[39;00m x: x \u001b[39mif\u001b[39;00m x\u001b[39m.\u001b[39mis_Symbol \u001b[39melse\u001b[39;00m x\u001b[39m.\u001b[39mas_dummy()\n\u001b[0;32m-> 1874\u001b[0m m \u001b[39m=\u001b[39m canonical(pattern)\u001b[39m.\u001b[39;49mmatches(canonical(\u001b[39mself\u001b[39;49m), old\u001b[39m=\u001b[39;49mold)\n\u001b[1;32m   1875\u001b[0m \u001b[39mif\u001b[39;00m m \u001b[39mis\u001b[39;00m \u001b[39mNone\u001b[39;00m:\n\u001b[1;32m   1876\u001b[0m     \u001b[39mreturn\u001b[39;00m m\n",
      "File \u001b[0;32m~/Library/Python/3.9/lib/python/site-packages/sympy/core/mul.py:1022\u001b[0m, in \u001b[0;36mMul.matches\u001b[0;34m(self, expr, repl_dict, old)\u001b[0m\n\u001b[1;32m   1020\u001b[0m expr \u001b[39m=\u001b[39m sympify(expr)\n\u001b[1;32m   1021\u001b[0m \u001b[39mif\u001b[39;00m \u001b[39mself\u001b[39m\u001b[39m.\u001b[39mis_commutative \u001b[39mand\u001b[39;00m expr\u001b[39m.\u001b[39mis_commutative:\n\u001b[0;32m-> 1022\u001b[0m     \u001b[39mreturn\u001b[39;00m \u001b[39mself\u001b[39;49m\u001b[39m.\u001b[39;49m_matches_commutative(expr, repl_dict, old)\n\u001b[1;32m   1023\u001b[0m \u001b[39melif\u001b[39;00m \u001b[39mself\u001b[39m\u001b[39m.\u001b[39mis_commutative \u001b[39mis\u001b[39;00m \u001b[39mnot\u001b[39;00m expr\u001b[39m.\u001b[39mis_commutative:\n\u001b[1;32m   1024\u001b[0m     \u001b[39mreturn\u001b[39;00m \u001b[39mNone\u001b[39;00m\n",
      "File \u001b[0;32m~/Library/Python/3.9/lib/python/site-packages/sympy/core/operations.py:244\u001b[0m, in \u001b[0;36mAssocOp._matches_commutative\u001b[0;34m(self, expr, repl_dict, old)\u001b[0m\n\u001b[1;32m    241\u001b[0m \u001b[39mif\u001b[39;00m \u001b[39mself\u001b[39m \u001b[39m==\u001b[39m expr:\n\u001b[1;32m    242\u001b[0m     \u001b[39mreturn\u001b[39;00m repl_dict\n\u001b[0;32m--> 244\u001b[0m d \u001b[39m=\u001b[39m \u001b[39mself\u001b[39;49m\u001b[39m.\u001b[39;49m_matches_simple(expr, repl_dict)\n\u001b[1;32m    245\u001b[0m \u001b[39mif\u001b[39;00m d \u001b[39mis\u001b[39;00m \u001b[39mnot\u001b[39;00m \u001b[39mNone\u001b[39;00m:\n\u001b[1;32m    246\u001b[0m     \u001b[39mreturn\u001b[39;00m d\n",
      "File \u001b[0;32m~/Library/Python/3.9/lib/python/site-packages/sympy/core/mul.py:1015\u001b[0m, in \u001b[0;36mMul._matches_simple\u001b[0;34m(self, expr, repl_dict)\u001b[0m\n\u001b[1;32m   1013\u001b[0m terms \u001b[39m=\u001b[39m Mul\u001b[39m.\u001b[39mmake_args(terms)\n\u001b[1;32m   1014\u001b[0m \u001b[39mif\u001b[39;00m \u001b[39mlen\u001b[39m(terms) \u001b[39m==\u001b[39m \u001b[39m1\u001b[39m:\n\u001b[0;32m-> 1015\u001b[0m     newexpr \u001b[39m=\u001b[39m \u001b[39mself\u001b[39;49m\u001b[39m.\u001b[39;49m\u001b[39m__class__\u001b[39;49m\u001b[39m.\u001b[39;49m_combine_inverse(expr, coeff)\n\u001b[1;32m   1016\u001b[0m     \u001b[39mreturn\u001b[39;00m terms[\u001b[39m0\u001b[39m]\u001b[39m.\u001b[39mmatches(newexpr, repl_dict)\n\u001b[1;32m   1017\u001b[0m \u001b[39mreturn\u001b[39;00m\n",
      "File \u001b[0;32m~/Library/Python/3.9/lib/python/site-packages/sympy/core/mul.py:1189\u001b[0m, in \u001b[0;36mMul._combine_inverse\u001b[0;34m(lhs, rhs)\u001b[0m\n\u001b[1;32m   1182\u001b[0m \u001b[39m@staticmethod\u001b[39m\n\u001b[1;32m   1183\u001b[0m \u001b[39mdef\u001b[39;00m \u001b[39m_combine_inverse\u001b[39m(lhs, rhs):\n\u001b[1;32m   1184\u001b[0m \u001b[39m    \u001b[39m\u001b[39m\"\"\"\u001b[39;00m\n\u001b[1;32m   1185\u001b[0m \u001b[39m    Returns lhs/rhs, but treats arguments like symbols, so things\u001b[39;00m\n\u001b[1;32m   1186\u001b[0m \u001b[39m    like oo/oo return 1 (instead of a nan) and ``I`` behaves like\u001b[39;00m\n\u001b[1;32m   1187\u001b[0m \u001b[39m    a symbol instead of sqrt(-1).\u001b[39;00m\n\u001b[1;32m   1188\u001b[0m \u001b[39m    \"\"\"\u001b[39;00m\n\u001b[0;32m-> 1189\u001b[0m     \u001b[39mfrom\u001b[39;00m \u001b[39msympy\u001b[39;00m\u001b[39m.\u001b[39;00m\u001b[39msimplify\u001b[39;00m\u001b[39m.\u001b[39;00m\u001b[39msimplify\u001b[39;00m \u001b[39mimport\u001b[39;00m signsimp\n\u001b[1;32m   1190\u001b[0m     \u001b[39mfrom\u001b[39;00m \u001b[39m.\u001b[39;00m\u001b[39msymbol\u001b[39;00m \u001b[39mimport\u001b[39;00m Dummy\n\u001b[1;32m   1191\u001b[0m     \u001b[39mif\u001b[39;00m lhs \u001b[39m==\u001b[39m rhs:\n",
      "File \u001b[0;32mshibokensupport/signature/loader.py:57\u001b[0m, in \u001b[0;36mfeature_imported\u001b[0;34m(*args, **kwds)\u001b[0m\n",
      "\u001b[0;31mKeyboardInterrupt\u001b[0m: "
     ]
    }
   ],
   "source": [
    "EC_shunt = 0.18\n",
    "\n",
    "EJM_EC = 5\n",
    "EJN_EC = 5\n",
    "\n",
    "\n",
    "N_ng1 = 30\n",
    "N_ng2 = 30\n",
    "N_ng3 = 30\n",
    "N_flux = 5\n",
    "\n",
    "ng1_list = np.linspace(0, 1, N_ng1)\n",
    "ng2_list = np.linspace(0, 1, N_ng2)\n",
    "ng3_list = np.linspace(0, 1, N_ng3)\n",
    "flux_list = np.linspace(0, 0.5, N_flux)\n",
    "\n",
    "w01_list = np.full([N_ng1, N_ng2, N_ng3, N_flux], None, dtype=float)\n",
    "w12_list = np.full([N_ng1, N_ng2, N_ng3, N_flux], None, dtype=float)\n",
    "E0_list = np.full([N_ng1, N_ng2, N_ng3, N_flux], None, dtype=float)\n",
    "E1_list = np.full([N_ng1, N_ng2, N_ng3, N_flux], None, dtype=float)\n",
    "E2_list = np.full([N_ng1, N_ng2, N_ng3, N_flux], None, dtype=float)\n",
    "relative_anharm_list = np.full([N_ng1, N_ng2, N_ng3, N_flux], None, dtype=float)\n",
    "\n",
    "nmon = Nmon(N=1, M=3, EJN=EJN_EC*EC_shunt, EJM=EJM_EC*EC_shunt, EC_shunt=EC_shunt)\n",
    "\n",
    "for i, ng1 in enumerate(tqdm(ng1_list)):\n",
    "    for j, ng2 in enumerate(ng2_list):\n",
    "        for a, ng3 in enumerate(ng3_list):\n",
    "            for k, flux in enumerate(flux_list):\n",
    "                try:\n",
    "                    nmon.hamiltonian_calc(flux=flux, ng=[ng1, ng2, ng3], num_levels=6, make_plot=False, just_H=False, \n",
    "                                        cutoff=compute_cutoff(nmon.EJN, nmon.EJM, nmon.EC_total, cutoff_space=[2, 8]))\n",
    "                    w01_list[i, j, a, k] = nmon.transition_freqs[0]\n",
    "                    E0_list[i, j, a, k] = nmon.bound_state_energies[0]\n",
    "                    E1_list[i, j, a, k] = nmon.bound_state_energies[1]\n",
    "\n",
    "                    if len(nmon.transition_freqs) > 1:\n",
    "                        w12_list[i, j, a, k] = nmon.transition_freqs[1]\n",
    "                        E2_list[i, j, a, k] = nmon.bound_state_energies[2]\n",
    "                        relative_anharm_list[i, j, a, k] = nmon.relative_anharm\n",
    "\n",
    "                except Exception as e:\n",
    "                    print(e)\n",
    "                    continue\n"
   ]
  },
  {
   "cell_type": "code",
   "execution_count": null,
   "metadata": {},
   "outputs": [],
   "source": [
    "format_list = (nmon.N, nmon.M, EJN_EC, EJM_EC,round(nmon.EC_shunt, 2))\n",
    "np.save(\"./data_arrays_ng/N={}_M={}_EJN_EC={}_EJM_EC={}_EC_shunt={}_w01_list.npy\".format(*format_list), w01_list)\n",
    "np.save(\"./data_arrays_ng/N={}_M={}_EJN_EC={}_EJM_EC={}_EC_shunt={}_w12_list.npy\".format(*format_list), w12_list)\n",
    "np.save(\"./data_arrays_ng/N={}_M={}_EJN_EC={}_EJM_EC={}_EC_shunt={}_E0_list.npy\".format(*format_list), E0_list)\n",
    "np.save(\"./data_arrays_ng/N={}_M={}_EJN_EC={}_EJM_EC={}_EC_shunt={}_E1_list.npy\".format(*format_list), E1_list)\n",
    "np.save(\"./data_arrays_ng/N={}_M={}_EJN_EC={}_EJM_EC={}_EC_shunt={}_E2_list.npy\".format(*format_list), E2_list)\n",
    "np.save(\"./data_arrays_ng/N={}_M={}_EJN_EC={}_EJM_EC={}_EC_shunt={}_relative_anharm_list.npy\".format(*format_list), relative_anharm_list)"
   ]
  },
  {
   "cell_type": "code",
   "execution_count": null,
   "metadata": {},
   "outputs": [],
   "source": [
    "w01_list = np.load(\"./data_arrays_ng/N={}_M={}_EJN_EC={}_EJM_EC={}_EC_shunt={}_w01_list.npy\".format(*format_list))\n",
    "w12_list = np.load(\"./data_arrays_ng/N={}_M={}_EJN_EC={}_EJM_EC={}_EC_shunt={}_w12_list.npy\".format(*format_list))\n",
    "E0_list = np.load(\"./data_arrays_ng/N={}_M={}_EJN_EC={}_EJM_EC={}_EC_shunt={}_E0_list.npy\".format(*format_list))\n",
    "E1_list = np.load(\"./data_arrays_ng/N={}_M={}_EJN_EC={}_EJM_EC={}_EC_shunt={}_E1_list.npy\".format(*format_list))\n",
    "E2_list = np.load(\"./data_arrays_ng/N={}_M={}_EJN_EC={}_EJM_EC={}_EC_shunt={}_E2_list.npy\".format(*format_list))\n",
    "relative_anharm_list = np.load(\"./data_arrays_ng/N={}_M={}_EJN_EC={}_EJM_EC={}_EC_shunt={}_relative_anharm_list.npy\".format(*format_list))"
   ]
  },
  {
   "cell_type": "code",
   "execution_count": null,
   "metadata": {},
   "outputs": [],
   "source": []
  }
 ],
 "metadata": {
  "kernelspec": {
   "display_name": "Python 3",
   "language": "python",
   "name": "python3"
  },
  "language_info": {
   "codemirror_mode": {
    "name": "ipython",
    "version": 3
   },
   "file_extension": ".py",
   "mimetype": "text/x-python",
   "name": "python",
   "nbconvert_exporter": "python",
   "pygments_lexer": "ipython3",
   "version": "3.9.6"
  },
  "orig_nbformat": 4
 },
 "nbformat": 4,
 "nbformat_minor": 2
}
