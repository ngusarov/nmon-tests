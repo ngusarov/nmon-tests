{
 "cells": [
  {
   "cell_type": "code",
   "execution_count": 1,
   "metadata": {},
   "outputs": [],
   "source": [
    "import h5py    \n",
    "import numpy as np    \n",
    "f1 = h5py.File('./data/2024_08_21_CPB_c3r6_RO1_Coil_8.hdf5','r+') "
   ]
  },
  {
   "cell_type": "code",
   "execution_count": 35,
   "metadata": {},
   "outputs": [
    {
     "name": "stdout",
     "output_type": "stream",
     "text": [
      "Keys: ['Channels', 'Data', 'Instrument config', 'Instruments', 'Log list', 'Settings', 'Step config', 'Step list', 'Tags', 'Traces']\n",
      "['Channel names', 'Data', 'Time stamp']\n",
      "<HDF5 dataset \"Data\": shape (401, 1, 1), type \"<f8\">\n",
      "<HDF5 dataset \"Channel names\": shape (1,), type \"|V16\">\n"
     ]
    }
   ],
   "source": [
    "import h5py\n",
    "\n",
    "filename = \"./data/2024_08_21_CPB_c3r6_RO1_Coil_8.hdf5\"\n",
    "\n",
    "with h5py.File(filename, \"r\") as f:\n",
    "    # Print all root-level keys (object names)\n",
    "    print(\"Keys: %s\" % list(f.keys()))\n",
    "    \n",
    "    # Get the first object name/key\n",
    "    keys = list(f.keys())\n",
    "\n",
    "    print(list(f[\"Data\"].keys()))\n",
    "    print(f[\"Data\"][\"Data\"])\n",
    "    print(f[\"Data\"][\"Channel names\"])\n",
    "\n",
    "    # for a_group_key in keys:\n",
    "\n",
    "    #     # Check if it's a group\n",
    "    #     if isinstance(f[a_group_key], h5py.Group):\n",
    "    #         print(f\"'{a_group_key}' is a group. Listing contents:\")\n",
    "    #         print(list(f[a_group_key].keys()))\n",
    "        \n",
    "    #     # Check if it's a dataset\n",
    "    #     elif isinstance(f[a_group_key], h5py.Dataset):\n",
    "    #         print(f\"'{a_group_key}' is a dataset.\")\n",
    "    #         # You can access the data if it's a dataset\n",
    "    #         data = f[a_group_key][:]\n",
    "    #         print(data)\n"
   ]
  },
  {
   "cell_type": "code",
   "execution_count": 23,
   "metadata": {},
   "outputs": [
    {
     "data": {
      "text/plain": [
       "array([(b'VNA_4port - # of averages', b'Rohde&Schwarz Network Analyzer Marco - IP: 169.254.115.12, VNA_4port at localhost', b'# of averages', b'', b'', 1., 0., 1., 6.5536e+04,  1. , b'', b'Nothing', False, b'', False, 1., False),\n",
       "       (b'VNA_4port - Average', b'Rohde&Schwarz Network Analyzer Marco - IP: 169.254.115.12, VNA_4port at localhost', b'Average', b'', b'', 1., 0., 1., 1.0000e+00,  0. , b'', b'Nothing', False, b'', False, 1., False),\n",
       "       (b'VNA_4port - IF bandwidth', b'Rohde&Schwarz Network Analyzer Marco - IP: 169.254.115.12, VNA_4port at localhost', b'IF bandwidth', b'Hz', b'Hz', 1., 0., 1.,        inf, -inf, b'', b'Nothing', False, b'', False, 1., False),\n",
       "       (b'VNA_4port - Output enabled', b'Rohde&Schwarz Network Analyzer Marco - IP: 169.254.115.12, VNA_4port at localhost', b'Output enabled', b'', b'', 1., 0., 1., 1.0000e+00,  0. , b'', b'Nothing', False, b'', False, 1., False),\n",
       "       (b'VNA_4port - Output power', b'Rohde&Schwarz Network Analyzer Marco - IP: 169.254.115.12, VNA_4port at localhost', b'Output power', b'dBm', b'dBm', 1., 0., 1.,        inf, -inf, b'', b'Nothing', False, b'', False, 1., False),\n",
       "       (b'VNA_4port - S11 - Enabled', b'Rohde&Schwarz Network Analyzer Marco - IP: 169.254.115.12, VNA_4port at localhost', b'S11 - Enabled', b'', b'', 1., 0., 1., 1.0000e+00,  0. , b'', b'Nothing', False, b'', False, 1., False),\n",
       "       (b'VNA_4port - S11', b'Rohde&Schwarz Network Analyzer Marco - IP: 169.254.115.12, VNA_4port at localhost', b'S11', b'', b'', 1., 0., 1., 0.0000e+00,  0. , b'', b'Nothing', False, b'', False, 1., False),\n",
       "       (b'VNA_4port - S12 - Enabled', b'Rohde&Schwarz Network Analyzer Marco - IP: 169.254.115.12, VNA_4port at localhost', b'S12 - Enabled', b'', b'', 1., 0., 1., 1.0000e+00,  0. , b'', b'Nothing', False, b'', False, 1., False),\n",
       "       (b'VNA_4port - S12', b'Rohde&Schwarz Network Analyzer Marco - IP: 169.254.115.12, VNA_4port at localhost', b'S12', b'', b'', 1., 0., 1., 0.0000e+00,  0. , b'', b'Nothing', False, b'', False, 1., False),\n",
       "       (b'VNA_4port - S21 - Enabled', b'Rohde&Schwarz Network Analyzer Marco - IP: 169.254.115.12, VNA_4port at localhost', b'S21 - Enabled', b'', b'', 1., 0., 1., 1.0000e+00,  0. , b'', b'Nothing', False, b'', False, 1., False),\n",
       "       (b'VNA_4port - S21', b'Rohde&Schwarz Network Analyzer Marco - IP: 169.254.115.12, VNA_4port at localhost', b'S21', b'', b'', 1., 0., 1., 0.0000e+00,  0. , b'', b'Nothing', False, b'', False, 1., False),\n",
       "       (b'VNA_4port - S22 - Enabled', b'Rohde&Schwarz Network Analyzer Marco - IP: 169.254.115.12, VNA_4port at localhost', b'S22 - Enabled', b'', b'', 1., 0., 1., 1.0000e+00,  0. , b'', b'Nothing', False, b'', False, 1., False),\n",
       "       (b'VNA_4port - S22', b'Rohde&Schwarz Network Analyzer Marco - IP: 169.254.115.12, VNA_4port at localhost', b'S22', b'', b'', 1., 0., 1., 0.0000e+00,  0. , b'', b'Nothing', False, b'', False, 1., False),\n",
       "       (b'VNA_4port - S23 - Enabled', b'Rohde&Schwarz Network Analyzer Marco - IP: 169.254.115.12, VNA_4port at localhost', b'S23 - Enabled', b'', b'', 1., 0., 1., 1.0000e+00,  0. , b'', b'Nothing', False, b'', False, 1., False),\n",
       "       (b'VNA_4port - S23', b'Rohde&Schwarz Network Analyzer Marco - IP: 169.254.115.12, VNA_4port at localhost', b'S23', b'', b'', 1., 0., 1., 0.0000e+00,  0. , b'', b'Nothing', False, b'', False, 1., False),\n",
       "       (b'VNA_4port - S41 - Enabled', b'Rohde&Schwarz Network Analyzer Marco - IP: 169.254.115.12, VNA_4port at localhost', b'S41 - Enabled', b'', b'', 1., 0., 1., 1.0000e+00,  0. , b'', b'Nothing', False, b'', False, 1., False),\n",
       "       (b'VNA_4port - S41', b'Rohde&Schwarz Network Analyzer Marco - IP: 169.254.115.12, VNA_4port at localhost', b'S41', b'', b'', 1., 0., 1., 0.0000e+00,  0. , b'', b'Nothing', False, b'', False, 1., False),\n",
       "       (b'VNA_4port - S43 - Enabled', b'Rohde&Schwarz Network Analyzer Marco - IP: 169.254.115.12, VNA_4port at localhost', b'S43 - Enabled', b'', b'', 1., 0., 1., 1.0000e+00,  0. , b'', b'Nothing', False, b'', False, 1., False),\n",
       "       (b'VNA_4port - S43', b'Rohde&Schwarz Network Analyzer Marco - IP: 169.254.115.12, VNA_4port at localhost', b'S43', b'', b'', 1., 0., 1., 0.0000e+00,  0. , b'', b'Nothing', False, b'', False, 1., False),\n",
       "       (b'VNA_4port - Wait for new trace', b'Rohde&Schwarz Network Analyzer Marco - IP: 169.254.115.12, VNA_4port at localhost', b'Wait for new trace', b'', b'', 1., 0., 1., 1.0000e+00,  0. , b'', b'Nothing', False, b'', False, 1., False),\n",
       "       (b'Yoko GS200: no monitor - Current', b'Yokogawa GS200 DC Source - IP: 169.254.120.64, Yoko GS200: no monitor at localhost', b'Current', b'A', b'A', 1., 0., 1., 2.0000e-01, -0.2, b'', b'Nothing', False, b'', False, 1., False),\n",
       "       (b'Yoko GS200: no monitor - Function', b'Yokogawa GS200 DC Source - IP: 169.254.120.64, Yoko GS200: no monitor at localhost', b'Function', b'', b'', 1., 0., 1., 1.0000e+00,  0. , b'', b'Nothing', False, b'', False, 1., False),\n",
       "       (b'Yoko GS200: no monitor - Output', b'Yokogawa GS200 DC Source - IP: 169.254.120.64, Yoko GS200: no monitor at localhost', b'Output', b'', b'', 1., 0., 1., 1.0000e+00,  0. , b'', b'Nothing', False, b'', False, 1., False),\n",
       "       (b'Yoko GS200: no monitor - Range (I)', b'Yokogawa GS200 DC Source - IP: 169.254.120.64, Yoko GS200: no monitor at localhost', b'Range (I)', b'', b'', 1., 0., 1., 3.0000e+00,  0. , b'', b'Nothing', False, b'', False, 1., False)],\n",
       "      dtype=[('name', 'O'), ('instrument', 'O'), ('quantity', 'O'), ('unitPhys', 'O'), ('unitInstr', 'O'), ('gain', '<f8'), ('offset', '<f8'), ('amp', '<f8'), ('highLim', '<f8'), ('lowLim', '<f8'), ('outputChannel', 'O'), ('limit_action', 'O'), ('limit_run_script', '?'), ('limit_script', 'O'), ('use_log_interval', '?'), ('log_interval', '<f8'), ('limit_run_always', '?')])"
      ]
     },
     "execution_count": 23,
     "metadata": {},
     "output_type": "execute_result"
    }
   ],
   "source": [
    "data"
   ]
  }
 ],
 "metadata": {
  "kernelspec": {
   "display_name": "Python 3",
   "language": "python",
   "name": "python3"
  },
  "language_info": {
   "codemirror_mode": {
    "name": "ipython",
    "version": 3
   },
   "file_extension": ".py",
   "mimetype": "text/x-python",
   "name": "python",
   "nbconvert_exporter": "python",
   "pygments_lexer": "ipython3",
   "version": "3.9.6"
  },
  "orig_nbformat": 4
 },
 "nbformat": 4,
 "nbformat_minor": 2
}
