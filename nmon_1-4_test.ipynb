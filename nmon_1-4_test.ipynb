{
 "cells": [
  {
   "cell_type": "code",
   "execution_count": null,
   "metadata": {},
   "outputs": [],
   "source": [
    "from nmon import *"
   ]
  },
  {
   "cell_type": "code",
   "execution_count": null,
   "metadata": {},
   "outputs": [],
   "source": [
    "EC_shunt = 0.18\n",
    "\n",
    "EJM_EC = 5\n",
    "EJN_EC = 5\n",
    "\n",
    "\n",
    "N_ng1 = 20\n",
    "N_ng2 = 20\n",
    "N_ng3 = 20\n",
    "N_ng4 = 20\n",
    "\n",
    "ng1_list = np.linspace(0, 1, N_ng1)\n",
    "ng2_list = np.linspace(0, 1, N_ng2)\n",
    "ng3_list = np.linspace(0, 1, N_ng3)\n",
    "ng4_list = np.linspace(0, 1, N_ng4)\n",
    "\n",
    "w01_list = np.zeros([N_ng1, N_ng2, N_ng3, N_ng4])\n",
    "\n",
    "nmon = Nmon(N=1, M=4, EJM=EJM_EC*EC_shunt, EJN=EJN_EC*EC_shunt, EC_shunt=EC_shunt)\n",
    "\n",
    "for i, ng1 in enumerate(tqdm(ng1_list)):\n",
    "    for j, ng2 in enumerate(ng2_list):\n",
    "        for k, ng3 in enumerate(ng3_list):\n",
    "            for l, ng4 in enumerate(ng4_list):\n",
    "                for attempt in range(10):\n",
    "                    # try:\n",
    "                    nmon.hamiltonian_calc(flux=0, ng=[ng1, ng2, ng3, ng4], make_plot=False, num_levels=10, cutoff=2)\n",
    "                    w01_list[i, j, k, l] = nmon.transition_freqs[0]\n",
    "                    # except Exception:\n",
    "                    #     continue\n",
    "                    # if w01_list[i, j, k, l] != 0:\n",
    "                    #     break\n",
    "\n"
   ]
  },
  {
   "cell_type": "code",
   "execution_count": null,
   "metadata": {},
   "outputs": [],
   "source": [
    "np.save(\"./data_arrays_ng/N={}_M={}_EC_shunt={}_w01_list.npy\".format(nmon.N, nmon.M, round(nmon.EC_total,2 )), w01_list)"
   ]
  },
  {
   "cell_type": "code",
   "execution_count": null,
   "metadata": {},
   "outputs": [],
   "source": [
    "w01_list_ng1234 = np.load(\"./data_arrays_ng/N={}_M={}_EC_shunt={}_w01_list.npy\".format(nmon.N, nmon.M, round(nmon.EC_total,2 )))"
   ]
  }
 ],
 "metadata": {
  "language_info": {
   "name": "python"
  },
  "orig_nbformat": 4
 },
 "nbformat": 4,
 "nbformat_minor": 2
}
