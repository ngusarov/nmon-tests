{
 "cells": [
  {
   "cell_type": "code",
   "execution_count": 1,
   "metadata": {},
   "outputs": [],
   "source": [
    "from nmon import *"
   ]
  },
  {
   "cell_type": "code",
   "execution_count": 2,
   "metadata": {},
   "outputs": [
    {
     "name": "stderr",
     "output_type": "stream",
     "text": [
      "  0%|          | 0/20 [00:00<?, ?it/s]ComplexWarning: Casting complex values to real discards the imaginary part\n",
      "  5%|▌         | 1/20 [16:42:34<317:28:54, 60154.46s/it]371630346.py: 28\n"
     ]
    },
    {
     "ename": "KeyboardInterrupt",
     "evalue": "",
     "output_type": "error",
     "traceback": [
      "\u001b[1;31m---------------------------------------------------------------------------\u001b[0m",
      "\u001b[1;31mKeyboardInterrupt\u001b[0m                         Traceback (most recent call last)",
      "Cell \u001b[1;32mIn[2], line 27\u001b[0m\n\u001b[0;32m     24\u001b[0m \u001b[38;5;28;01mfor\u001b[39;00m l, ng4 \u001b[38;5;129;01min\u001b[39;00m \u001b[38;5;28menumerate\u001b[39m(ng4_list):\n\u001b[0;32m     25\u001b[0m     \u001b[38;5;28;01mfor\u001b[39;00m attempt \u001b[38;5;129;01min\u001b[39;00m \u001b[38;5;28mrange\u001b[39m(\u001b[38;5;241m10\u001b[39m):\n\u001b[0;32m     26\u001b[0m         \u001b[38;5;66;03m# try:\u001b[39;00m\n\u001b[1;32m---> 27\u001b[0m         nmon\u001b[38;5;241m.\u001b[39mhamiltonian_calc(flux\u001b[38;5;241m=\u001b[39m\u001b[38;5;241m0\u001b[39m, ng\u001b[38;5;241m=\u001b[39m[ng1, ng2, ng3, ng4], make_plot\u001b[38;5;241m=\u001b[39m\u001b[38;5;28;01mFalse\u001b[39;00m, num_levels\u001b[38;5;241m=\u001b[39m\u001b[38;5;241m10\u001b[39m, cutoff\u001b[38;5;241m=\u001b[39m\u001b[38;5;241m2\u001b[39m)\n\u001b[0;32m     28\u001b[0m         w01_list[i, j, k, l] \u001b[38;5;241m=\u001b[39m nmon\u001b[38;5;241m.\u001b[39mtransition_freqs[\u001b[38;5;241m0\u001b[39m]\n",
      "File \u001b[1;32mc:\\Users\\gusarov\\nmon-tests\\nmon.py:260\u001b[0m, in \u001b[0;36mNmon.hamiltonian_calc\u001b[1;34m(self, flux, ng, make_plot, num_levels, just_H, cutoff)\u001b[0m\n\u001b[0;32m    257\u001b[0m \u001b[38;5;28;01mif\u001b[39;00m just_H:\n\u001b[0;32m    258\u001b[0m     \u001b[38;5;28;01mreturn\u001b[39;00m \u001b[38;5;28mself\u001b[39m\u001b[38;5;241m.\u001b[39mH\n\u001b[1;32m--> 260\u001b[0m \u001b[38;5;28mself\u001b[39m\u001b[38;5;241m.\u001b[39msym_hamiltonian  \u001b[38;5;241m=\u001b[39m \u001b[38;5;28mself\u001b[39m\u001b[38;5;241m.\u001b[39mnmon_circ\u001b[38;5;241m.\u001b[39msym_hamiltonian(return_expr\u001b[38;5;241m=\u001b[39m\u001b[38;5;28;01mTrue\u001b[39;00m)\n\u001b[0;32m    264\u001b[0m \u001b[38;5;66;03m# Solve eigenvalue problem\u001b[39;00m\n\u001b[0;32m    265\u001b[0m eigenvalues, eigenvectors \u001b[38;5;241m=\u001b[39m tf\u001b[38;5;241m.\u001b[39mlinalg\u001b[38;5;241m.\u001b[39meigh(\u001b[38;5;28mself\u001b[39m\u001b[38;5;241m.\u001b[39mH)\n",
      "File \u001b[1;32mc:\\Users\\gusarov\\AppData\\Local\\miniconda3\\envs\\py11_normal_pkg\\Lib\\site-packages\\scqubits\\core\\circuit_routines.py:2953\u001b[0m, in \u001b[0;36mCircuitRoutines.sym_hamiltonian\u001b[1;34m(self, subsystem_index, float_round, print_latex, return_expr)\u001b[0m\n\u001b[0;32m   2948\u001b[0m     sym_hamiltonian \u001b[38;5;241m=\u001b[39m sm\u001b[38;5;241m.\u001b[39mAdd(\n\u001b[0;32m   2949\u001b[0m         sym_hamiltonian_KE, sym_hamiltonian_PE, evaluate\u001b[38;5;241m=\u001b[39m\u001b[38;5;28;01mFalse\u001b[39;00m\n\u001b[0;32m   2950\u001b[0m     )\n\u001b[0;32m   2951\u001b[0m \u001b[38;5;28;01melse\u001b[39;00m:\n\u001b[0;32m   2952\u001b[0m     \u001b[38;5;66;03m# create KE and PE symbolic expressions\u001b[39;00m\n\u001b[1;32m-> 2953\u001b[0m     sym_hamiltonian \u001b[38;5;241m=\u001b[39m \u001b[38;5;28mself\u001b[39m\u001b[38;5;241m.\u001b[39m_make_expr_human_readable(\n\u001b[0;32m   2954\u001b[0m         \u001b[38;5;28mself\u001b[39m\u001b[38;5;241m.\u001b[39mhamiltonian_symbolic\u001b[38;5;241m.\u001b[39mexpand(),\n\u001b[0;32m   2955\u001b[0m         float_round\u001b[38;5;241m=\u001b[39mfloat_round,\n\u001b[0;32m   2956\u001b[0m     )\n\u001b[0;32m   2957\u001b[0m     \u001b[38;5;66;03m# substitute free charges\u001b[39;00m\n\u001b[0;32m   2958\u001b[0m     \u001b[38;5;28;01mfor\u001b[39;00m free_charge \u001b[38;5;129;01min\u001b[39;00m \u001b[38;5;28mself\u001b[39m\u001b[38;5;241m.\u001b[39mfree_charges:\n",
      "File \u001b[1;32mc:\\Users\\gusarov\\AppData\\Local\\miniconda3\\envs\\py11_normal_pkg\\Lib\\site-packages\\scqubits\\core\\circuit_routines.py:2804\u001b[0m, in \u001b[0;36mCircuitRoutines._make_expr_human_readable\u001b[1;34m(self, expr, float_round)\u001b[0m\n\u001b[0;32m   2802\u001b[0m \u001b[38;5;28;01mfor\u001b[39;00m term \u001b[38;5;129;01min\u001b[39;00m sm\u001b[38;5;241m.\u001b[39mpreorder_traversal(expr):\n\u001b[0;32m   2803\u001b[0m     \u001b[38;5;28;01mif\u001b[39;00m \u001b[38;5;28misinstance\u001b[39m(term, sm\u001b[38;5;241m.\u001b[39mFloat):\n\u001b[1;32m-> 2804\u001b[0m         expr_modified \u001b[38;5;241m=\u001b[39m expr_modified\u001b[38;5;241m.\u001b[39msubs(term, \u001b[38;5;28mround\u001b[39m(term, float_round))\n\u001b[0;32m   2806\u001b[0m \u001b[38;5;28;01mfor\u001b[39;00m var_index \u001b[38;5;129;01min\u001b[39;00m \u001b[38;5;28mself\u001b[39m\u001b[38;5;241m.\u001b[39mdynamic_var_indices:\n\u001b[0;32m   2807\u001b[0m     \u001b[38;5;66;03m# replace sinθ with sin(..) and similarly with cos\u001b[39;00m\n\u001b[0;32m   2808\u001b[0m     expr_modified \u001b[38;5;241m=\u001b[39m (\n\u001b[0;32m   2809\u001b[0m         expr_modified\u001b[38;5;241m.\u001b[39mreplace(\n\u001b[0;32m   2810\u001b[0m             sm\u001b[38;5;241m.\u001b[39msymbols(\u001b[38;5;124mf\u001b[39m\u001b[38;5;124m\"\u001b[39m\u001b[38;5;124mcosθ\u001b[39m\u001b[38;5;132;01m{\u001b[39;00mvar_index\u001b[38;5;132;01m}\u001b[39;00m\u001b[38;5;124m\"\u001b[39m),\n\u001b[1;32m   (...)\u001b[0m\n\u001b[0;32m   2820\u001b[0m         )\n\u001b[0;32m   2821\u001b[0m     )\n",
      "File \u001b[1;32mc:\\Users\\gusarov\\AppData\\Local\\miniconda3\\envs\\py11_normal_pkg\\Lib\\site-packages\\sympy\\core\\basic.py:1123\u001b[0m, in \u001b[0;36mBasic.subs\u001b[1;34m(self, *args, **kwargs)\u001b[0m\n\u001b[0;32m   1121\u001b[0m rv \u001b[38;5;241m=\u001b[39m \u001b[38;5;28mself\u001b[39m\n\u001b[0;32m   1122\u001b[0m \u001b[38;5;28;01mfor\u001b[39;00m old, new \u001b[38;5;129;01min\u001b[39;00m sequence:\n\u001b[1;32m-> 1123\u001b[0m     rv \u001b[38;5;241m=\u001b[39m rv\u001b[38;5;241m.\u001b[39m_subs(old, new, \u001b[38;5;241m*\u001b[39m\u001b[38;5;241m*\u001b[39mkwargs)\n\u001b[0;32m   1124\u001b[0m     \u001b[38;5;28;01mif\u001b[39;00m \u001b[38;5;129;01mnot\u001b[39;00m \u001b[38;5;28misinstance\u001b[39m(rv, Basic):\n\u001b[0;32m   1125\u001b[0m         \u001b[38;5;28;01mbreak\u001b[39;00m\n",
      "File \u001b[1;32mc:\\Users\\gusarov\\AppData\\Local\\miniconda3\\envs\\py11_normal_pkg\\Lib\\site-packages\\sympy\\core\\cache.py:72\u001b[0m, in \u001b[0;36m__cacheit.<locals>.func_wrapper.<locals>.wrapper\u001b[1;34m(*args, **kwargs)\u001b[0m\n\u001b[0;32m     69\u001b[0m \u001b[38;5;129m@wraps\u001b[39m(func)\n\u001b[0;32m     70\u001b[0m \u001b[38;5;28;01mdef\u001b[39;00m \u001b[38;5;21mwrapper\u001b[39m(\u001b[38;5;241m*\u001b[39margs, \u001b[38;5;241m*\u001b[39m\u001b[38;5;241m*\u001b[39mkwargs):\n\u001b[0;32m     71\u001b[0m     \u001b[38;5;28;01mtry\u001b[39;00m:\n\u001b[1;32m---> 72\u001b[0m         retval \u001b[38;5;241m=\u001b[39m cfunc(\u001b[38;5;241m*\u001b[39margs, \u001b[38;5;241m*\u001b[39m\u001b[38;5;241m*\u001b[39mkwargs)\n\u001b[0;32m     73\u001b[0m     \u001b[38;5;28;01mexcept\u001b[39;00m \u001b[38;5;167;01mTypeError\u001b[39;00m \u001b[38;5;28;01mas\u001b[39;00m e:\n\u001b[0;32m     74\u001b[0m         \u001b[38;5;28;01mif\u001b[39;00m \u001b[38;5;129;01mnot\u001b[39;00m e\u001b[38;5;241m.\u001b[39margs \u001b[38;5;129;01mor\u001b[39;00m \u001b[38;5;129;01mnot\u001b[39;00m e\u001b[38;5;241m.\u001b[39margs[\u001b[38;5;241m0\u001b[39m]\u001b[38;5;241m.\u001b[39mstartswith(\u001b[38;5;124m'\u001b[39m\u001b[38;5;124munhashable type:\u001b[39m\u001b[38;5;124m'\u001b[39m):\n",
      "File \u001b[1;32mc:\\Users\\gusarov\\AppData\\Local\\miniconda3\\envs\\py11_normal_pkg\\Lib\\site-packages\\sympy\\core\\basic.py:1237\u001b[0m, in \u001b[0;36mBasic._subs\u001b[1;34m(self, old, new, **hints)\u001b[0m\n\u001b[0;32m   1235\u001b[0m rv \u001b[38;5;241m=\u001b[39m \u001b[38;5;28mself\u001b[39m\u001b[38;5;241m.\u001b[39m_eval_subs(old, new)\n\u001b[0;32m   1236\u001b[0m \u001b[38;5;28;01mif\u001b[39;00m rv \u001b[38;5;129;01mis\u001b[39;00m \u001b[38;5;28;01mNone\u001b[39;00m:\n\u001b[1;32m-> 1237\u001b[0m     rv \u001b[38;5;241m=\u001b[39m fallback(\u001b[38;5;28mself\u001b[39m, old, new)\n\u001b[0;32m   1238\u001b[0m \u001b[38;5;28;01mreturn\u001b[39;00m rv\n",
      "File \u001b[1;32mc:\\Users\\gusarov\\AppData\\Local\\miniconda3\\envs\\py11_normal_pkg\\Lib\\site-packages\\sympy\\core\\basic.py:1209\u001b[0m, in \u001b[0;36mBasic._subs.<locals>.fallback\u001b[1;34m(self, old, new)\u001b[0m\n\u001b[0;32m   1207\u001b[0m \u001b[38;5;28;01mif\u001b[39;00m \u001b[38;5;129;01mnot\u001b[39;00m \u001b[38;5;28mhasattr\u001b[39m(arg, \u001b[38;5;124m'\u001b[39m\u001b[38;5;124m_eval_subs\u001b[39m\u001b[38;5;124m'\u001b[39m):\n\u001b[0;32m   1208\u001b[0m     \u001b[38;5;28;01mcontinue\u001b[39;00m\n\u001b[1;32m-> 1209\u001b[0m arg \u001b[38;5;241m=\u001b[39m arg\u001b[38;5;241m.\u001b[39m_subs(old, new, \u001b[38;5;241m*\u001b[39m\u001b[38;5;241m*\u001b[39mhints)\n\u001b[0;32m   1210\u001b[0m \u001b[38;5;28;01mif\u001b[39;00m \u001b[38;5;129;01mnot\u001b[39;00m _aresame(arg, args[i]):\n\u001b[0;32m   1211\u001b[0m     hit \u001b[38;5;241m=\u001b[39m \u001b[38;5;28;01mTrue\u001b[39;00m\n",
      "File \u001b[1;32mc:\\Users\\gusarov\\AppData\\Local\\miniconda3\\envs\\py11_normal_pkg\\Lib\\site-packages\\sympy\\core\\cache.py:72\u001b[0m, in \u001b[0;36m__cacheit.<locals>.func_wrapper.<locals>.wrapper\u001b[1;34m(*args, **kwargs)\u001b[0m\n\u001b[0;32m     69\u001b[0m \u001b[38;5;129m@wraps\u001b[39m(func)\n\u001b[0;32m     70\u001b[0m \u001b[38;5;28;01mdef\u001b[39;00m \u001b[38;5;21mwrapper\u001b[39m(\u001b[38;5;241m*\u001b[39margs, \u001b[38;5;241m*\u001b[39m\u001b[38;5;241m*\u001b[39mkwargs):\n\u001b[0;32m     71\u001b[0m     \u001b[38;5;28;01mtry\u001b[39;00m:\n\u001b[1;32m---> 72\u001b[0m         retval \u001b[38;5;241m=\u001b[39m cfunc(\u001b[38;5;241m*\u001b[39margs, \u001b[38;5;241m*\u001b[39m\u001b[38;5;241m*\u001b[39mkwargs)\n\u001b[0;32m     73\u001b[0m     \u001b[38;5;28;01mexcept\u001b[39;00m \u001b[38;5;167;01mTypeError\u001b[39;00m \u001b[38;5;28;01mas\u001b[39;00m e:\n\u001b[0;32m     74\u001b[0m         \u001b[38;5;28;01mif\u001b[39;00m \u001b[38;5;129;01mnot\u001b[39;00m e\u001b[38;5;241m.\u001b[39margs \u001b[38;5;129;01mor\u001b[39;00m \u001b[38;5;129;01mnot\u001b[39;00m e\u001b[38;5;241m.\u001b[39margs[\u001b[38;5;241m0\u001b[39m]\u001b[38;5;241m.\u001b[39mstartswith(\u001b[38;5;124m'\u001b[39m\u001b[38;5;124munhashable type:\u001b[39m\u001b[38;5;124m'\u001b[39m):\n",
      "File \u001b[1;32mc:\\Users\\gusarov\\AppData\\Local\\miniconda3\\envs\\py11_normal_pkg\\Lib\\site-packages\\sympy\\core\\basic.py:1237\u001b[0m, in \u001b[0;36mBasic._subs\u001b[1;34m(self, old, new, **hints)\u001b[0m\n\u001b[0;32m   1235\u001b[0m rv \u001b[38;5;241m=\u001b[39m \u001b[38;5;28mself\u001b[39m\u001b[38;5;241m.\u001b[39m_eval_subs(old, new)\n\u001b[0;32m   1236\u001b[0m \u001b[38;5;28;01mif\u001b[39;00m rv \u001b[38;5;129;01mis\u001b[39;00m \u001b[38;5;28;01mNone\u001b[39;00m:\n\u001b[1;32m-> 1237\u001b[0m     rv \u001b[38;5;241m=\u001b[39m fallback(\u001b[38;5;28mself\u001b[39m, old, new)\n\u001b[0;32m   1238\u001b[0m \u001b[38;5;28;01mreturn\u001b[39;00m rv\n",
      "File \u001b[1;32mc:\\Users\\gusarov\\AppData\\Local\\miniconda3\\envs\\py11_normal_pkg\\Lib\\site-packages\\sympy\\core\\basic.py:1210\u001b[0m, in \u001b[0;36mBasic._subs.<locals>.fallback\u001b[1;34m(self, old, new)\u001b[0m\n\u001b[0;32m   1208\u001b[0m     \u001b[38;5;28;01mcontinue\u001b[39;00m\n\u001b[0;32m   1209\u001b[0m arg \u001b[38;5;241m=\u001b[39m arg\u001b[38;5;241m.\u001b[39m_subs(old, new, \u001b[38;5;241m*\u001b[39m\u001b[38;5;241m*\u001b[39mhints)\n\u001b[1;32m-> 1210\u001b[0m \u001b[38;5;28;01mif\u001b[39;00m \u001b[38;5;129;01mnot\u001b[39;00m _aresame(arg, args[i]):\n\u001b[0;32m   1211\u001b[0m     hit \u001b[38;5;241m=\u001b[39m \u001b[38;5;28;01mTrue\u001b[39;00m\n\u001b[0;32m   1212\u001b[0m     args[i] \u001b[38;5;241m=\u001b[39m arg\n",
      "File \u001b[1;32mc:\\Users\\gusarov\\AppData\\Local\\miniconda3\\envs\\py11_normal_pkg\\Lib\\site-packages\\sympy\\core\\basic.py:2192\u001b[0m, in \u001b[0;36mBasic.is_same\u001b[1;34m(a, b, approx)\u001b[0m\n\u001b[0;32m   2138\u001b[0m \u001b[38;5;250m\u001b[39m\u001b[38;5;124;03m\"\"\"Return True if a and b are structurally the same, else False.\u001b[39;00m\n\u001b[0;32m   2139\u001b[0m \u001b[38;5;124;03mIf `approx` is supplied, it will be used to test whether two\u001b[39;00m\n\u001b[0;32m   2140\u001b[0m \u001b[38;5;124;03mnumbers are the same or not. By default, only numbers of the\u001b[39;00m\n\u001b[1;32m   (...)\u001b[0m\n\u001b[0;32m   2189\u001b[0m \n\u001b[0;32m   2190\u001b[0m \u001b[38;5;124;03m\"\"\"\u001b[39;00m\n\u001b[0;32m   2191\u001b[0m \u001b[38;5;28;01mfrom\u001b[39;00m \u001b[38;5;21;01m.\u001b[39;00m\u001b[38;5;21;01mnumbers\u001b[39;00m \u001b[38;5;28;01mimport\u001b[39;00m Number\n\u001b[1;32m-> 2192\u001b[0m \u001b[38;5;28;01mfrom\u001b[39;00m \u001b[38;5;21;01m.\u001b[39;00m\u001b[38;5;21;01mtraversal\u001b[39;00m \u001b[38;5;28;01mimport\u001b[39;00m postorder_traversal \u001b[38;5;28;01mas\u001b[39;00m pot\n\u001b[0;32m   2193\u001b[0m \u001b[38;5;28;01mfor\u001b[39;00m t \u001b[38;5;129;01min\u001b[39;00m zip_longest(pot(a), pot(b)):\n\u001b[0;32m   2194\u001b[0m     \u001b[38;5;28;01mif\u001b[39;00m \u001b[38;5;28;01mNone\u001b[39;00m \u001b[38;5;129;01min\u001b[39;00m t:\n",
      "File \u001b[1;32mshibokensupport/signature/loader.py:71\u001b[0m, in \u001b[0;36mfeature_imported\u001b[1;34m(*args, **kwds)\u001b[0m\n",
      "File \u001b[1;32mshibokensupport/feature.py:144\u001b[0m, in \u001b[0;36mfeature_imported\u001b[1;34m(module)\u001b[0m\n",
      "\u001b[1;31mKeyboardInterrupt\u001b[0m: "
     ]
    }
   ],
   "source": [
    "EC_shunt = 0.18\n",
    "\n",
    "EJM_EC = 5\n",
    "EJN_EC = 5\n",
    "\n",
    "\n",
    "N_ng1 = 20\n",
    "N_ng2 = 20\n",
    "N_ng3 = 20\n",
    "N_ng4 = 20\n",
    "\n",
    "ng1_list = np.linspace(0, 1, N_ng1)\n",
    "ng2_list = np.linspace(0, 1, N_ng2)\n",
    "ng3_list = np.linspace(0, 1, N_ng3)\n",
    "ng4_list = np.linspace(0, 1, N_ng4)\n",
    "\n",
    "w01_list = np.zeros([N_ng1, N_ng2, N_ng3, N_ng4])\n",
    "\n",
    "nmon = Nmon(N=1, M=4, EJM=EJM_EC*EC_shunt, EJN=EJN_EC*EC_shunt, EC_shunt=EC_shunt)\n",
    "\n",
    "for i, ng1 in enumerate(tqdm(ng1_list)):\n",
    "    for j, ng2 in enumerate(ng2_list):\n",
    "        for k, ng3 in enumerate(ng3_list):\n",
    "            for l, ng4 in enumerate(ng4_list):\n",
    "                for attempt in range(10):\n",
    "                    # try:\n",
    "                    nmon.hamiltonian_calc(flux=0, ng=[ng1, ng2, ng3, ng4], make_plot=False, num_levels=10, cutoff=2)\n",
    "                    w01_list[i, j, k, l] = nmon.transition_freqs[0]\n",
    "                    # except Exception:\n",
    "                    #     continue\n",
    "                    # if w01_list[i, j, k, l] != 0:\n",
    "                    #     break\n",
    "\n"
   ]
  },
  {
   "cell_type": "code",
   "execution_count": null,
   "metadata": {},
   "outputs": [],
   "source": [
    "np.save(\"./data_arrays_ng/N={}_M={}_EC_shunt={}_w01_list.npy\".format(nmon.N, nmon.M, round(nmon.EC_total,2 )), w01_list)"
   ]
  },
  {
   "cell_type": "code",
   "execution_count": null,
   "metadata": {},
   "outputs": [],
   "source": [
    "w01_list_ng1234 = np.load(\"./data_arrays_ng/N={}_M={}_EC_shunt={}_w01_list.npy\".format(nmon.N, nmon.M, round(nmon.EC_total,2 )))"
   ]
  }
 ],
 "metadata": {
  "kernelspec": {
   "display_name": "py11_normal_pkg",
   "language": "python",
   "name": "python3"
  },
  "language_info": {
   "codemirror_mode": {
    "name": "ipython",
    "version": 3
   },
   "file_extension": ".py",
   "mimetype": "text/x-python",
   "name": "python",
   "nbconvert_exporter": "python",
   "pygments_lexer": "ipython3",
   "version": "3.11.10"
  },
  "orig_nbformat": 4
 },
 "nbformat": 4,
 "nbformat_minor": 2
}
