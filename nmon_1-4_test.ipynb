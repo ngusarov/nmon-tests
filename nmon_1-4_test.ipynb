{
 "cells": [
  {
   "cell_type": "code",
   "execution_count": 1,
   "metadata": {},
   "outputs": [],
   "source": [
    "from nmon import *"
   ]
  },
  {
   "cell_type": "code",
   "execution_count": 13,
   "metadata": {},
   "outputs": [
    {
     "ename": "MemoryError",
     "evalue": "Unable to allocate 44.0 MiB for an array with shape (2401, 2401) and data type float64",
     "output_type": "error",
     "traceback": [
      "\u001b[1;31m---------------------------------------------------------------------------\u001b[0m",
      "\u001b[1;31mMemoryError\u001b[0m                               Traceback (most recent call last)",
      "Cell \u001b[1;32mIn[13], line 16\u001b[0m\n\u001b[0;32m     13\u001b[0m \u001b[38;5;66;03m# nmon = Nmon(N=1, M=4, EJN=EJN, EJM=EJM, EC_shunt=EC_shunt)\u001b[39;00m\n\u001b[0;32m     15\u001b[0m ng1 \u001b[38;5;241m=\u001b[39m \u001b[38;5;241m0.249\u001b[39m\n\u001b[1;32m---> 16\u001b[0m nmon\u001b[38;5;241m.\u001b[39mhamiltonian_calc(flux\u001b[38;5;241m=\u001b[39mflux, ng\u001b[38;5;241m=\u001b[39m[ng1, \u001b[38;5;241m1\u001b[39m\u001b[38;5;241m-\u001b[39mng1, \u001b[38;5;241m0\u001b[39m, \u001b[38;5;241m0\u001b[39m], num_levels\u001b[38;5;241m=\u001b[39m\u001b[38;5;241m6\u001b[39m, make_plot\u001b[38;5;241m=\u001b[39m\u001b[38;5;28;01mTrue\u001b[39;00m, just_H\u001b[38;5;241m=\u001b[39m\u001b[38;5;28;01mFalse\u001b[39;00m, \n\u001b[0;32m     17\u001b[0m                                 cutoff\u001b[38;5;241m=\u001b[39m\u001b[38;5;241m3\u001b[39m) \u001b[38;5;66;03m# compute_cutoff(nmon.EJN, nmon.EJM, nmon.EC_total, cutoff_space=[2, 8])\u001b[39;00m\n\u001b[0;32m     19\u001b[0m nmon\u001b[38;5;241m.\u001b[39mtransition_freqs\n",
      "File \u001b[1;32mc:\\Users\\gusarov\\nmon-tests\\nmon.py:252\u001b[0m, in \u001b[0;36mNmon.hamiltonian_calc\u001b[1;34m(self, flux, ng, make_plot, num_levels, just_H, cutoff)\u001b[0m\n\u001b[0;32m    250\u001b[0m \u001b[38;5;28;01mif\u001b[39;00m flux \u001b[38;5;241m==\u001b[39m \u001b[38;5;241m0\u001b[39m \u001b[38;5;129;01mor\u001b[39;00m flux \u001b[38;5;241m==\u001b[39m \u001b[38;5;241m0.0\u001b[39m:\n\u001b[0;32m    251\u001b[0m     \u001b[38;5;28mself\u001b[39m\u001b[38;5;241m.\u001b[39mH \u001b[38;5;241m=\u001b[39m scipy\u001b[38;5;241m.\u001b[39msparse\u001b[38;5;241m.\u001b[39mcsr_matrix(np\u001b[38;5;241m.\u001b[39mabsolute(\u001b[38;5;28mself\u001b[39m\u001b[38;5;241m.\u001b[39mH))\n\u001b[1;32m--> 252\u001b[0m     \u001b[38;5;28mself\u001b[39m\u001b[38;5;241m.\u001b[39mH_arr \u001b[38;5;241m=\u001b[39m np\u001b[38;5;241m.\u001b[39mabsolute(\u001b[38;5;28mself\u001b[39m\u001b[38;5;241m.\u001b[39mH_arr)\n\u001b[0;32m    254\u001b[0m \u001b[38;5;28mself\u001b[39m\u001b[38;5;241m.\u001b[39msym_hamiltonian  \u001b[38;5;241m=\u001b[39m \u001b[38;5;28mself\u001b[39m\u001b[38;5;241m.\u001b[39mnmon_circ\u001b[38;5;241m.\u001b[39msym_hamiltonian(return_expr\u001b[38;5;241m=\u001b[39m\u001b[38;5;28;01mTrue\u001b[39;00m)\n\u001b[0;32m    256\u001b[0m \u001b[38;5;28;01mif\u001b[39;00m just_H:\n",
      "\u001b[1;31mMemoryError\u001b[0m: Unable to allocate 44.0 MiB for an array with shape (2401, 2401) and data type float64"
     ]
    }
   ],
   "source": [
    "EC_shunt = 0.18\n",
    "\n",
    "flux = 0.25\n",
    "EJN = 4.437931\n",
    "EJM = 5.046207\n",
    "\n",
    "flux = 0.0\n",
    "EJN_EC = 15\n",
    "EJM_EC = 17\n",
    "\n",
    "\n",
    "nmon = Nmon(N=1, M=4, EJN=EJN_EC*EC_shunt, EJM=EJM_EC*EC_shunt, EC_shunt=EC_shunt)\n",
    "# nmon = Nmon(N=1, M=4, EJN=EJN, EJM=EJM, EC_shunt=EC_shunt)\n",
    "\n",
    "ng1 = 0.249\n",
    "nmon.hamiltonian_calc(flux=flux, ng=[ng1, 1-ng1, 0, 0], num_levels=6, make_plot=True, just_H=False, \n",
    "                                cutoff=3) # compute_cutoff(nmon.EJN, nmon.EJM, nmon.EC_total, cutoff_space=[2, 8])\n",
    "\n",
    "nmon.transition_freqs"
   ]
  },
  {
   "cell_type": "code",
   "execution_count": null,
   "metadata": {},
   "outputs": [],
   "source": [
    "EC_shunt = 0.18\n",
    "\n",
    "EJM_EC = 5\n",
    "EJN_EC = 5\n",
    "\n",
    "\n",
    "N_ng1 = 20\n",
    "N_ng2 = 20\n",
    "N_ng3 = 20\n",
    "N_ng4 = 20\n",
    "\n",
    "ng1_list = np.linspace(0, 1, N_ng1)\n",
    "ng2_list = np.linspace(0, 1, N_ng2)\n",
    "ng3_list = np.linspace(0, 1, N_ng3)\n",
    "ng4_list = np.linspace(0, 1, N_ng4)\n",
    "\n",
    "w01_list = np.zeros([N_ng1, N_ng2, N_ng3, N_ng4])\n",
    "\n",
    "nmon = Nmon(N=1, M=4, EJM=EJM_EC*EC_shunt, EJN=EJN_EC*EC_shunt, EC_shunt=EC_shunt)\n",
    "\n",
    "for i, ng1 in enumerate(tqdm(ng1_list)):\n",
    "    for j, ng2 in enumerate(ng2_list):\n",
    "        for k, ng3 in enumerate(ng3_list):\n",
    "            for l, ng4 in enumerate(ng4_list):\n",
    "                for attempt in range(10):\n",
    "                    # try:\n",
    "                    nmon.hamiltonian_calc(flux=0, ng=[ng1, ng2, ng3, ng4], make_plot=False, num_levels=10, cutoff=2)\n",
    "                    w01_list[i, j, k, l] = nmon.transition_freqs[0]\n",
    "                    # except Exception:\n",
    "                    #     continue\n",
    "                    # if w01_list[i, j, k, l] != 0:\n",
    "                    #     break\n",
    "\n"
   ]
  },
  {
   "cell_type": "code",
   "execution_count": null,
   "metadata": {},
   "outputs": [],
   "source": [
    "np.save(\"./data_arrays_ng/N={}_M={}_EC_shunt={}_w01_list.npy\".format(nmon.N, nmon.M, round(nmon.EC_total,2 )), w01_list)"
   ]
  },
  {
   "cell_type": "code",
   "execution_count": null,
   "metadata": {},
   "outputs": [],
   "source": [
    "w01_list_ng1234 = np.load(\"./data_arrays_ng/N={}_M={}_EC_shunt={}_w01_list.npy\".format(nmon.N, nmon.M, round(nmon.EC_total,2 )))"
   ]
  }
 ],
 "metadata": {
  "kernelspec": {
   "display_name": "py11_normal_pkg",
   "language": "python",
   "name": "python3"
  },
  "language_info": {
   "codemirror_mode": {
    "name": "ipython",
    "version": 3
   },
   "file_extension": ".py",
   "mimetype": "text/x-python",
   "name": "python",
   "nbconvert_exporter": "python",
   "pygments_lexer": "ipython3",
   "version": "3.11.10"
  },
  "orig_nbformat": 4
 },
 "nbformat": 4,
 "nbformat_minor": 2
}
